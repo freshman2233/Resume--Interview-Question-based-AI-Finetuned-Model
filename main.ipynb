{
 "cells": [
  {
   "cell_type": "markdown",
   "metadata": {},
   "source": [
    "1.Collect Interview Question in Excel"
   ]
  },
  {
   "cell_type": "markdown",
   "metadata": {},
   "source": [
    "2.Write Python code to convert an Excel file to the following Alpaca format\n",
    "\n",
    "question corresponds to instruction and answer corresponds to output\n",
    "\n",
    "[ \n",
    "    { \n",
    "        \"instruction\": \"人类指令（必填）\", \n",
    "        \"input\": \"人类输入（选填）\", \n",
    "        \"output\": \"模型回答（必填）\", \n",
    "        \"system\": \"系统提示词（选填）\", \n",
    "        \"history\": [ [\"第一轮指令（选填）\", \"第一轮回答（选填）\"], [\"第二轮指令（选填）\", \"第二轮回答（选填）\"] ] \n",
    "    }\n",
    "]\n",
    "\n",
    "Example\n",
    "[{\n",
    "        \"instruction\": \"小姐，别的秀女都在求中选，唯有咱们小姐想被撂牌子，菩萨一定记得真真儿的——\",\n",
    "        \"input\": \"\",\n",
    "        \"output\": \"嘘——都说许愿说破是不灵的。\"\n",
    "}]\n"
   ]
  },
  {
   "cell_type": "code",
   "execution_count": null,
   "metadata": {},
   "outputs": [],
   "source": [
    "import json\n",
    "\n",
    "# Define the function to convert the data to Alpaca format\n",
    "def convert_to_alpaca_format(df):\n",
    "    alpaca_data = []\n",
    "    for _, row in df.iterrows():\n",
    "        alpaca_data.append({\n",
    "            \"instruction\": row['question'],  # Map question to instruction\n",
    "            \"input\": \"\",  # No input provided in the example\n",
    "            \"output\": row['answer'],  # Map answer to output\n",
    "            \"system\": \"\",  # System prompt not provided\n",
    "            \"history\": []  # No history provided\n",
    "        })\n",
    "    return alpaca_data\n",
    "\n",
    "# Convert the data to the required format\n",
    "alpaca_formatted_data = convert_to_alpaca_format(data)\n",
    "\n",
    "# Save the output as a JSON file\n",
    "output_file_path = '/mnt/data/alpaca_formatted_data.json'\n",
    "with open(output_file_path, 'w', encoding='utf-8') as f:\n",
    "    json.dump(alpaca_formatted_data, f, ensure_ascii=False, indent=4)\n",
    "\n",
    "output_file_path"
   ]
  }
 ],
 "metadata": {
  "kernelspec": {
   "display_name": "Python 3",
   "language": "python",
   "name": "python3"
  },
  "language_info": {
   "name": "python",
   "version": "3.12.4"
  }
 },
 "nbformat": 4,
 "nbformat_minor": 2
}
